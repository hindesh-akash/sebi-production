{
 "cells": [
  {
   "cell_type": "code",
   "execution_count": 14,
   "metadata": {},
   "outputs": [],
   "source": [
    "import googleapiclient.discovery\n",
    "import googleapiclient.errors\n",
    "\n",
    "api_service_name = \"youtube\"\n",
    "api_version = \"v3\"\n",
    "DEVELOPER_KEY = \"---- ENTER YOUR KEY HERE ----\"\n",
    "\n",
    "youtube = googleapiclient.discovery.build(\n",
    "    api_service_name, api_version, developerKey=DEVELOPER_KEY)"
   ]
  },
  {
   "cell_type": "code",
   "execution_count": 15,
   "metadata": {},
   "outputs": [],
   "source": [
    "def get_details(video_link):\n",
    "    video_id = video_link.split(\"=\")[1]\n",
    "\n",
    "\n",
    "    #---------------------------------------\n",
    "    request = youtube.videos().list(\n",
    "    part=[\"statistics\",\"snippet\"],\n",
    "    id=video_id\n",
    "    )\n",
    "    response = request.execute()\n",
    "\n",
    "    video_title = response['items'][0]['snippet']['title']\n",
    "    video_description = response['items'][0]['snippet']['description']\n",
    "    channel_id = response['items'][0]['snippet']['channelId']\n",
    "    video_num_views = response['items'][0]['statistics']['viewCount']\n",
    "    video_num_likes = response['items'][0]['statistics']['likeCount']\n",
    "    video_num_comments = response['items'][0]['statistics']['commentCount']\n",
    "\n",
    "    #---------------------------------------\n",
    "    request2 = youtube.channels().list(\n",
    "    part=[\"snippet\",\"statistics\"],\n",
    "    id=channel_id\n",
    "    )\n",
    "    response2 = request2.execute()\n",
    "\n",
    "    channel_name = response2['items'][0]['snippet']['title']\n",
    "    chanel_description = response2['items'][0]['snippet']['description']\n",
    "    channel_num_subscribers = response2['items'][0]['statistics']['subscriberCount']\n",
    "    channel_num_videos = response2['items'][0]['statistics']['videoCount']\n",
    "\n",
    "    #---------------------------------------\n",
    "    request3 = youtube.commentThreads().list(\n",
    "    part=\"snippet\",\n",
    "    videoId=video_id,\n",
    "    maxResults=10\n",
    "    )\n",
    "\n",
    "    response3 = request3.execute()\n",
    "    video_comments = [item['snippet']['topLevelComment']['snippet']['textOriginal'] for item in response3['items']]\n",
    "\n",
    "    return [video_title, video_description, channel_name, chanel_description, video_num_views, video_num_likes, video_num_comments, channel_num_subscribers, channel_num_videos, video_comments]"
   ]
  }
 ],
 "metadata": {
  "kernelspec": {
   "display_name": "Python 3",
   "language": "python",
   "name": "python3"
  },
  "language_info": {
   "codemirror_mode": {
    "name": "ipython",
    "version": 3
   },
   "file_extension": ".py",
   "mimetype": "text/x-python",
   "name": "python",
   "nbconvert_exporter": "python",
   "pygments_lexer": "ipython3",
   "version": "3.10.2"
  },
  "orig_nbformat": 4
 },
 "nbformat": 4,
 "nbformat_minor": 2
}
